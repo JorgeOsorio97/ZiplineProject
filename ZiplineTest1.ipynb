{
 "cells": [
  {
   "cell_type": "markdown",
   "metadata": {},
   "source": [
    "# Projecto Zipline"
   ]
  },
  {
   "cell_type": "markdown",
   "metadata": {},
   "source": [
    "### Importamos todas las librerás requeridas y sus respectivos magics para buen funcionamiento"
   ]
  },
  {
   "cell_type": "code",
   "execution_count": 1,
   "metadata": {},
   "outputs": [],
   "source": [
    "import datetime as dt\n",
    "import pandas as pd\n",
    "import pandas_datareader.data as web\n",
    "import numpy as np\n",
    "import matplotlib.pyplot as plt\n",
    "import seaborn; seaborn.set()\n",
    "from zipline.api import order, record, symbol\n",
    "%matplotlib notebook"
   ]
  },
  {
   "cell_type": "markdown",
   "metadata": {},
   "source": [
    "### Realizamos la importacion de los datos de 4 diferentes empresas para pruebas: Tesla, Google, Apple y Nvidia, y definimos el intervalo de tiempo"
   ]
  },
  {
   "cell_type": "code",
   "execution_count": 2,
   "metadata": {},
   "outputs": [
    {
     "name": "stderr",
     "output_type": "stream",
     "text": [
      "/home/isaac/anaconda3/lib/python3.6/site-packages/pandas_datareader/google/daily.py:40: UnstableAPIWarning: \n",
      "The Google Finance API has not been stable since late 2017. Requests seem\n",
      "to fail at random. Failure is especially common when bulk downloading.\n",
      "\n",
      "  warnings.warn(UNSTABLE_WARNING, UnstableAPIWarning)\n"
     ]
    }
   ],
   "source": [
    "start = dt.datetime(2013,1,1)\n",
    "end = dt.datetime(2017,12,31)\n",
    "tsla = web.DataReader('TSLA','google',start,end)\n",
    "goog = web.DataReader('GOOG','google',start,end)\n",
    "appl = web.DataReader('AAPL','google',start,end)\n",
    "nvda = web.DataReader('NVDA','google',start,end)\n",
    "#plt.get_backend()"
   ]
  },
  {
   "cell_type": "markdown",
   "metadata": {},
   "source": [
    "### Revisamos informacion de los datos recibidos"
   ]
  },
  {
   "cell_type": "code",
   "execution_count": 3,
   "metadata": {
    "scrolled": true
   },
   "outputs": [
    {
     "data": {
      "text/html": [
       "<div>\n",
       "<table border=\"1\" class=\"dataframe\">\n",
       "  <thead>\n",
       "    <tr style=\"text-align: right;\">\n",
       "      <th></th>\n",
       "      <th>Open</th>\n",
       "      <th>High</th>\n",
       "      <th>Low</th>\n",
       "      <th>Close</th>\n",
       "      <th>Volume</th>\n",
       "    </tr>\n",
       "    <tr>\n",
       "      <th>Date</th>\n",
       "      <th></th>\n",
       "      <th></th>\n",
       "      <th></th>\n",
       "      <th></th>\n",
       "      <th></th>\n",
       "    </tr>\n",
       "  </thead>\n",
       "  <tbody>\n",
       "    <tr>\n",
       "      <th>2013-01-02</th>\n",
       "      <td>35.00</td>\n",
       "      <td>35.45</td>\n",
       "      <td>34.70</td>\n",
       "      <td>35.36</td>\n",
       "      <td>1194710</td>\n",
       "    </tr>\n",
       "    <tr>\n",
       "      <th>2013-01-03</th>\n",
       "      <td>35.18</td>\n",
       "      <td>35.45</td>\n",
       "      <td>34.75</td>\n",
       "      <td>34.77</td>\n",
       "      <td>741941</td>\n",
       "    </tr>\n",
       "    <tr>\n",
       "      <th>2013-01-04</th>\n",
       "      <td>34.80</td>\n",
       "      <td>34.80</td>\n",
       "      <td>33.92</td>\n",
       "      <td>34.40</td>\n",
       "      <td>673993</td>\n",
       "    </tr>\n",
       "    <tr>\n",
       "      <th>2013-01-07</th>\n",
       "      <td>34.80</td>\n",
       "      <td>34.80</td>\n",
       "      <td>33.90</td>\n",
       "      <td>34.34</td>\n",
       "      <td>441909</td>\n",
       "    </tr>\n",
       "    <tr>\n",
       "      <th>2013-01-08</th>\n",
       "      <td>34.50</td>\n",
       "      <td>34.50</td>\n",
       "      <td>33.11</td>\n",
       "      <td>33.68</td>\n",
       "      <td>1283985</td>\n",
       "    </tr>\n",
       "  </tbody>\n",
       "</table>\n",
       "</div>"
      ],
      "text/plain": [
       "             Open   High    Low  Close   Volume\n",
       "Date                                           \n",
       "2013-01-02  35.00  35.45  34.70  35.36  1194710\n",
       "2013-01-03  35.18  35.45  34.75  34.77   741941\n",
       "2013-01-04  34.80  34.80  33.92  34.40   673993\n",
       "2013-01-07  34.80  34.80  33.90  34.34   441909\n",
       "2013-01-08  34.50  34.50  33.11  33.68  1283985"
      ]
     },
     "execution_count": 3,
     "metadata": {},
     "output_type": "execute_result"
    }
   ],
   "source": [
    "tsla.head()"
   ]
  },
  {
   "cell_type": "code",
   "execution_count": 4,
   "metadata": {
    "scrolled": true
   },
   "outputs": [
    {
     "name": "stdout",
     "output_type": "stream",
     "text": [
      "<class 'pandas.core.frame.DataFrame'>\n",
      "DatetimeIndex: 1259 entries, 2013-01-02 to 2017-12-29\n",
      "Data columns (total 5 columns):\n",
      "Open      1259 non-null float64\n",
      "High      1259 non-null float64\n",
      "Low       1259 non-null float64\n",
      "Close     1259 non-null float64\n",
      "Volume    1259 non-null int64\n",
      "dtypes: float64(4), int64(1)\n",
      "memory usage: 59.0 KB\n"
     ]
    }
   ],
   "source": [
    "tsla.info()"
   ]
  },
  {
   "cell_type": "code",
   "execution_count": null,
   "metadata": {},
   "outputs": [],
   "source": [
    "#tsla.to_csv('tsla.csv')\n",
    "#appl.to_csv('appl.csv')\n",
    "#goog.to_csv('goog.csv')\n",
    "#nvda.to_csv('nvda.csv')"
   ]
  },
  {
   "cell_type": "markdown",
   "metadata": {},
   "source": [
    "### Graficamos los valores de apertura de cada empresa por separado y al final en un conjunto"
   ]
  },
  {
   "cell_type": "code",
   "execution_count": null,
   "metadata": {},
   "outputs": [],
   "source": [
    "plt.figure(1)\n",
    "tsla_plot = plt.subplot()\n",
    "#tsla_close = plt.subplot()\n",
    "tsla_plot.plot(tsla['Close'],color='green')\n",
    "plt.legend(['Tesla Close Value'],loc=\"upper left\")\n",
    "plt.title('Valores de Cierre Tesla')"
   ]
  },
  {
   "cell_type": "code",
   "execution_count": null,
   "metadata": {},
   "outputs": [],
   "source": [
    "plt.figure(2)\n",
    "goog_plot = plt.subplot()\n",
    "goog_plot.plot(goog['Close'],color='blue')\n",
    "plt.legend(['Google Close Value'],loc=\"upper left\")\n",
    "plt.title('Valores de Cierre Google')"
   ]
  },
  {
   "cell_type": "code",
   "execution_count": null,
   "metadata": {},
   "outputs": [],
   "source": [
    "plt.figure(3)\n",
    "appl_plot = plt.subplot()\n",
    "appl_plot.plot(appl['Close'],color='red')\n",
    "plt.legend(['Apple Close Value'],loc=\"upper left\")\n",
    "plt.title('Valores de Cierre Apple')"
   ]
  },
  {
   "cell_type": "code",
   "execution_count": null,
   "metadata": {},
   "outputs": [],
   "source": [
    "plt.figure(4)\n",
    "nvda_plot = plt.subplot()\n",
    "nvda_plot.plot(nvda['Close'],color='purple')\n",
    "plt.legend(['Nvidia Close Value'],loc=\"upper left\")\n",
    "plt.title('Valores de Cierre Nvidia')"
   ]
  },
  {
   "cell_type": "code",
   "execution_count": null,
   "metadata": {},
   "outputs": [],
   "source": [
    "plt.figure(5)\n",
    "tsla_plot=plt.subplot()\n",
    "goog_plot=plt.subplot()\n",
    "appl_plot=plt.subplot()\n",
    "nvda_plot=plt.subplot()\n",
    "tsla_plot.plot(tsla['Close'],color='green')\n",
    "goog_plot.plot(goog['Close'],color='blue')\n",
    "appl_plot.plot(appl['Close'],color='red')\n",
    "nvda_plot.plot(nvda['Close'],color='purple')\n",
    "plt.legend(['Tesla','Google','Apple','Nvidia'],loc=\"upper left\")\n",
    "plt.title('Valores de Cierre')"
   ]
  },
  {
   "cell_type": "markdown",
   "metadata": {},
   "source": [
    "### Revisamos si existen split's o merge's"
   ]
  },
  {
   "cell_type": "markdown",
   "metadata": {},
   "source": [
    "Para encontrar de los splits y merge vamos a proceder de forma matematica para encontrar los posibles splits y merge.\n",
    "\n",
    "Primero creamos una nueva columna en la que iran la diferencia entre el valor Open y el valor Close.\n",
    "\n",
    "Sacamos el promedio de diferencia y la desviacion estandar, estadisticamente sabemos que todo lo que se aleje mas de 3 desviaciones estandar del promedio es un \"outlier\" es decir un dato fuera de lo normal, estos son los más probavles splits y merge.\n",
    "\n",
    "graficamos un histograma para ver la forma de los datos y creamos una lista que contenga estos outliers y otra que contenga la fecha de estos para poder revisar manualmente si fueron splits o merge o simplemente es un caso extraordinario."
   ]
  },
  {
   "cell_type": "code",
   "execution_count": null,
   "metadata": {},
   "outputs": [],
   "source": [
    "def dif_open_close(symbol):\n",
    "    diferencia= []\n",
    "    for x in range(len(symbol['Open'])):\n",
    "        diferencia.append(symbol['Open'][x]-symbol['Close'][x])\n",
    "    return diferencia"
   ]
  },
  {
   "cell_type": "code",
   "execution_count": null,
   "metadata": {},
   "outputs": [],
   "source": [
    "def found_outliers(symbol):\n",
    "    symbol['Cambio'] = dif_open_close(symbol)\n",
    "    mean = symbol['Cambio'].mean()\n",
    "    std = symbol['Cambio'].std()\n",
    "    plt.figure('Histograma_Cambios')\n",
    "    plt.hist(symbol['Cambio'],500)\n",
    "    \n",
    "    print('La media es: {}'.format(mean))\n",
    "    print('La desviacion estandar es: {}'.format(std))\n",
    "    \n",
    "    idx = []\n",
    "    vals = []\n",
    "    for x in symbol['Cambio']:\n",
    "        if x>=(mean+(std*3)) or x<=(mean-(std*3)):\n",
    "            vals.append(x)\n",
    "            idx.append(symbol.index[symbol['Cambio']==x])\n",
    "            \n",
    "            \n",
    "    \n",
    "    for x in vals:\n",
    "        print(x)\n",
    "        #print(symbol.index['Cambio'][x])\n",
    "    for x in idx:\n",
    "        print(x)\n",
    "\n",
    "    \n",
    "    \n",
    "found_outliers(appl)\n",
    "\n"
   ]
  },
  {
   "cell_type": "markdown",
   "metadata": {},
   "source": [
    "### Creamos los promedios moviles para empezar sera a 20 días"
   ]
  },
  {
   "cell_type": "markdown",
   "metadata": {},
   "source": [
    "Para sacar el promedio movil creamos una funcion que toma dos parametros, el primero es la accion a revisar y el segundo es el numero de días del promedio movil.\n",
    "Esta nos regresa una lista con todos los valores del promedio movil.\n",
    "Continuamos graficando esto contra los valores de cierre de cada día y asi podemos ver cuando deberiamos comprar y cuando vender."
   ]
  },
  {
   "cell_type": "code",
   "execution_count": null,
   "metadata": {},
   "outputs": [],
   "source": [
    "def prom_mov(symbol, dias = 20):\n",
    "    list=[]\n",
    "    suma_i = 0\n",
    "    t=0\n",
    "    suma_f = 0\n",
    "    for x in range(dias-1):\n",
    "        list.append(0)\n",
    "    for i in range(len(symbol['Close'])-dias+1):\n",
    "        suma_i = 0\n",
    "        for j in range(dias):\n",
    "            suma_i += symbol['Close'][i+j]\n",
    "        t +=1\n",
    "        prom1 = suma_i/dias\n",
    "        suma_f += prom1\n",
    "        list.append(prom1)\n",
    "    promf = suma_f/t\n",
    "    symbol['PromedioMov']= list\n",
    "    print(symbol.head(21))\n",
    "    \n",
    "    \n",
    "prom_mov(tsla,20)"
   ]
  },
  {
   "cell_type": "code",
   "execution_count": null,
   "metadata": {
    "scrolled": true
   },
   "outputs": [],
   "source": [
    "plt.figure(7)\n",
    "tsla_pm = plt.subplot()\n",
    "tsla_close = plt.subplot()\n",
    "tsla_close.plot(tsla['Close'],color='green')\n",
    "tsla_pm.plot(tsla['PromedioMov'],color='black',linestyle='--')\n",
    "plt.legend(['Tesla Valor de Cierre','Promedio Movil'],loc=\"upper left\")\n",
    "plt.title('Valores de Cierre Tesla con Promedio Movil a 20 días')"
   ]
  },
  {
   "cell_type": "markdown",
   "metadata": {},
   "source": [
    "### Utilidad del promedio movil en esta accion"
   ]
  },
  {
   "cell_type": "code",
   "execution_count": null,
   "metadata": {},
   "outputs": [],
   "source": [
    "def utl_prom_mov(symbol,compra,startdate,enddate):\n",
    "    accion1 = \"\"\n",
    "    accion2 = \"\"\n",
    "    acciones = 0\n",
    "    costo = 0\n",
    "    ganancia = 0\n",
    "    contador_compra = 0\n",
    "    contador_venta = 0\n",
    "    for x in range(len(symbol['PromedioMov'])):\n",
    "        if x == len(symbol['PromedioMov'])-1:\n",
    "            pass\n",
    "        elif symbol['PromedioMov'][x] <= symbol['Close'][x] and symbol['PromedioMov'][x] > symbol['Close'][x+1]:\n",
    "            accion2 = 'Venta'\n",
    "            contador_venta +=1\n",
    "           \n",
    "        elif symbol['PromedioMov'][x] >= symbol['Close'][x] and symbol['PromedioMov'][x] < symbol['Close'][x+1]:\n",
    "            accion2 = 'Compra'\n",
    "            contador_compra += 1 \n",
    "        else:\n",
    "            pass\n",
    "        if accion1 == accion2:\n",
    "            pass\n",
    "        else:\n",
    "            accion1 = accion2\n",
    "            print(accion1)\n",
    "            if accion1 == 'Compra':\n",
    "                acciones += compra\n",
    "                costo = acciones * symbol['Close'][x]\n",
    "                print('Costo = {}'.format(costo))\n",
    "            else:\n",
    "                gananciaper = acciones * symbol['Close'][x]-costo\n",
    "                ganancia += (acciones * symbol['Close'][x])-costo\n",
    "                if acciones - compra <0:\n",
    "                    acciones -= acciones\n",
    "                else:\n",
    "                    acciones -= compra\n",
    "                print('Ganancia de periodo = {}'.format(gananciaper))\n",
    "                print('Ganancia acumulada = {}'.format(ganancia))\n",
    "            print(acciones)\n",
    "\n",
    "utl_prom_mov(tsla,1,2,1)\n",
    "        "
   ]
  },
  {
   "cell_type": "markdown",
   "metadata": {},
   "source": [
    "### Sacaremos el porcentaje de cambio diario"
   ]
  },
  {
   "cell_type": "code",
   "execution_count": null,
   "metadata": {},
   "outputs": [],
   "source": [
    "def pct_cambio(symbol):\n",
    "    symbol['Pct Cambio'] =symbol['Close'].pct_change()\n",
    "    symbol['Pct Cambio'].fillna(0, inplace=True)\n",
    "    print(symbol.head())\n",
    "    \n",
    "pct_cambio(appl)"
   ]
  },
  {
   "cell_type": "code",
   "execution_count": null,
   "metadata": {},
   "outputs": [],
   "source": [
    "%load_ext zipline"
   ]
  },
  {
   "cell_type": "code",
   "execution_count": null,
   "metadata": {},
   "outputs": [],
   "source": [
    "#%%zipline --start 2013-1-1 --end 2017-12-31\n",
    "#%%zipline --start 2000-1-1 --end 2014-1-1\n"
   ]
  },
  {
   "cell_type": "code",
   "execution_count": null,
   "metadata": {},
   "outputs": [],
   "source": [
    "def initialize(context):\n",
    "    pass\n",
    "\n",
    "def handle_data(context, data):\n",
    "    order(symbol('AAPL'), 10)\n",
    "    record(AAPL=data[symbol('AAPL')].price)"
   ]
  },
  {
   "cell_type": "code",
   "execution_count": null,
   "metadata": {},
   "outputs": [],
   "source": []
  },
  {
   "cell_type": "code",
   "execution_count": null,
   "metadata": {},
   "outputs": [],
   "source": []
  },
  {
   "cell_type": "code",
   "execution_count": null,
   "metadata": {},
   "outputs": [],
   "source": []
  }
 ],
 "metadata": {
  "kernelspec": {
   "display_name": "Python 3",
   "language": "python",
   "name": "python3"
  },
  "language_info": {
   "codemirror_mode": {
    "name": "ipython",
    "version": 3
   },
   "file_extension": ".py",
   "mimetype": "text/x-python",
   "name": "python",
   "nbconvert_exporter": "python",
   "pygments_lexer": "ipython3",
   "version": "3.6.4"
  }
 },
 "nbformat": 4,
 "nbformat_minor": 2
}
